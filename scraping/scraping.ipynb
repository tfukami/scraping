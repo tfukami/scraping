{
 "cells": [
  {
   "cell_type": "code",
   "execution_count": 1,
   "metadata": {
    "collapsed": true
   },
   "outputs": [],
   "source": [
    "from urllib.request import urlopen\n",
    "from bs4 import BeautifulSoup"
   ]
  },
  {
   "cell_type": "code",
   "execution_count": 15,
   "metadata": {},
   "outputs": [
    {
     "name": "stderr",
     "output_type": "stream",
     "text": [
      "/Users/fukami/.pyenv/versions/3.6.1/envs/p3.6.1/lib/python3.6/site-packages/bs4/__init__.py:181: UserWarning: No parser was explicitly specified, so I'm using the best available HTML parser for this system (\"lxml\"). This usually isn't a problem, but if you run this code on another system, or in a different virtual environment, it may use a different parser and behave differently.\n",
      "\n",
      "The code that caused this warning is on line 193 of the file /Users/fukami/.pyenv/versions/3.6.1/lib/python3.6/runpy.py. To get rid of this warning, change code that looks like this:\n",
      "\n",
      " BeautifulSoup(YOUR_MARKUP})\n",
      "\n",
      "to this:\n",
      "\n",
      " BeautifulSoup(YOUR_MARKUP, \"lxml\")\n",
      "\n",
      "  markup_type=markup_type))\n"
     ]
    }
   ],
   "source": [
    "html = urlopen('https://www.google.co.jp/maps/place/Apple')\n",
    "bsObj = BeautifulSoup(html.read())"
   ]
  },
  {
   "cell_type": "code",
   "execution_count": 17,
   "metadata": {},
   "outputs": [
    {
     "name": "stdout",
     "output_type": "stream",
     "text": [
      "<link href=\"/images/branding/product/ico/maps_32dp.ico\" rel=\"shortcut icon\"/>\n"
     ]
    }
   ],
   "source": [
    "print(bsObj.head.link)"
   ]
  },
  {
   "cell_type": "code",
   "execution_count": 57,
   "metadata": {
    "collapsed": true
   },
   "outputs": [],
   "source": [
    "from selenium import webdriver\n",
    "from selenium.webdriver.common.keys import Keys\n",
    "import time"
   ]
  },
  {
   "cell_type": "code",
   "execution_count": 97,
   "metadata": {},
   "outputs": [
    {
     "name": "stdout",
     "output_type": "stream",
     "text": [
      "Google マップ\n"
     ]
    }
   ],
   "source": [
    "#driver = webdriver.PhantomJS()\n",
    "driver = webdriver.Chrome('/Users/fukami/Git/AD_study/chromedriver')\n",
    "driver.get('https://www.google.co.jp/maps/')\n",
    "driver.save_screenshot('p_picture/map.png')\n",
    "print(driver.title)"
   ]
  },
  {
   "cell_type": "code",
   "execution_count": 98,
   "metadata": {},
   "outputs": [],
   "source": [
    "#input_element = driver.find_element_by_name('q')\n",
    "input_element = driver.find_elements_by_css_selector('input')"
   ]
  },
  {
   "cell_type": "code",
   "execution_count": 99,
   "metadata": {},
   "outputs": [
    {
     "data": {
      "text/plain": [
       "True"
      ]
     },
     "execution_count": 99,
     "metadata": {},
     "output_type": "execute_result"
    }
   ],
   "source": [
    "input_element[0].send_keys('apple 渋谷')\n",
    "input_element[0].send_keys(Keys.RETURN)\n",
    "time.sleep(2)\n",
    "driver.save_screenshot('p_picture/map_search.png')"
   ]
  },
  {
   "cell_type": "code",
   "execution_count": 130,
   "metadata": {},
   "outputs": [],
   "source": [
    "bar = driver.find_elements_by_class_name('section-popular-times-value')"
   ]
  },
  {
   "cell_type": "code",
   "execution_count": 131,
   "metadata": {},
   "outputs": [
    {
     "name": "stdout",
     "output_type": "stream",
     "text": [
      "[<selenium.webdriver.remote.webelement.WebElement (session=\"b6aa13b1a8e0be6c6be73afa09e65d15\", element=\"0.2881362178252842-132\")>, <selenium.webdriver.remote.webelement.WebElement (session=\"b6aa13b1a8e0be6c6be73afa09e65d15\", element=\"0.2881362178252842-133\")>, <selenium.webdriver.remote.webelement.WebElement (session=\"b6aa13b1a8e0be6c6be73afa09e65d15\", element=\"0.2881362178252842-134\")>, <selenium.webdriver.remote.webelement.WebElement (session=\"b6aa13b1a8e0be6c6be73afa09e65d15\", element=\"0.2881362178252842-135\")>, <selenium.webdriver.remote.webelement.WebElement (session=\"b6aa13b1a8e0be6c6be73afa09e65d15\", element=\"0.2881362178252842-136\")>, <selenium.webdriver.remote.webelement.WebElement (session=\"b6aa13b1a8e0be6c6be73afa09e65d15\", element=\"0.2881362178252842-137\")>, <selenium.webdriver.remote.webelement.WebElement (session=\"b6aa13b1a8e0be6c6be73afa09e65d15\", element=\"0.2881362178252842-138\")>, <selenium.webdriver.remote.webelement.WebElement (session=\"b6aa13b1a8e0be6c6be73afa09e65d15\", element=\"0.2881362178252842-139\")>, <selenium.webdriver.remote.webelement.WebElement (session=\"b6aa13b1a8e0be6c6be73afa09e65d15\", element=\"0.2881362178252842-140\")>, <selenium.webdriver.remote.webelement.WebElement (session=\"b6aa13b1a8e0be6c6be73afa09e65d15\", element=\"0.2881362178252842-141\")>, <selenium.webdriver.remote.webelement.WebElement (session=\"b6aa13b1a8e0be6c6be73afa09e65d15\", element=\"0.2881362178252842-142\")>, <selenium.webdriver.remote.webelement.WebElement (session=\"b6aa13b1a8e0be6c6be73afa09e65d15\", element=\"0.2881362178252842-143\")>, <selenium.webdriver.remote.webelement.WebElement (session=\"b6aa13b1a8e0be6c6be73afa09e65d15\", element=\"0.2881362178252842-144\")>, <selenium.webdriver.remote.webelement.WebElement (session=\"b6aa13b1a8e0be6c6be73afa09e65d15\", element=\"0.2881362178252842-145\")>, <selenium.webdriver.remote.webelement.WebElement (session=\"b6aa13b1a8e0be6c6be73afa09e65d15\", element=\"0.2881362178252842-146\")>, <selenium.webdriver.remote.webelement.WebElement (session=\"b6aa13b1a8e0be6c6be73afa09e65d15\", element=\"0.2881362178252842-147\")>, <selenium.webdriver.remote.webelement.WebElement (session=\"b6aa13b1a8e0be6c6be73afa09e65d15\", element=\"0.2881362178252842-148\")>, <selenium.webdriver.remote.webelement.WebElement (session=\"b6aa13b1a8e0be6c6be73afa09e65d15\", element=\"0.2881362178252842-149\")>, <selenium.webdriver.remote.webelement.WebElement (session=\"b6aa13b1a8e0be6c6be73afa09e65d15\", element=\"0.2881362178252842-150\")>, <selenium.webdriver.remote.webelement.WebElement (session=\"b6aa13b1a8e0be6c6be73afa09e65d15\", element=\"0.2881362178252842-151\")>, <selenium.webdriver.remote.webelement.WebElement (session=\"b6aa13b1a8e0be6c6be73afa09e65d15\", element=\"0.2881362178252842-152\")>, <selenium.webdriver.remote.webelement.WebElement (session=\"b6aa13b1a8e0be6c6be73afa09e65d15\", element=\"0.2881362178252842-153\")>, <selenium.webdriver.remote.webelement.WebElement (session=\"b6aa13b1a8e0be6c6be73afa09e65d15\", element=\"0.2881362178252842-154\")>, <selenium.webdriver.remote.webelement.WebElement (session=\"b6aa13b1a8e0be6c6be73afa09e65d15\", element=\"0.2881362178252842-155\")>, <selenium.webdriver.remote.webelement.WebElement (session=\"b6aa13b1a8e0be6c6be73afa09e65d15\", element=\"0.2881362178252842-156\")>, <selenium.webdriver.remote.webelement.WebElement (session=\"b6aa13b1a8e0be6c6be73afa09e65d15\", element=\"0.2881362178252842-157\")>, <selenium.webdriver.remote.webelement.WebElement (session=\"b6aa13b1a8e0be6c6be73afa09e65d15\", element=\"0.2881362178252842-158\")>, <selenium.webdriver.remote.webelement.WebElement (session=\"b6aa13b1a8e0be6c6be73afa09e65d15\", element=\"0.2881362178252842-159\")>, <selenium.webdriver.remote.webelement.WebElement (session=\"b6aa13b1a8e0be6c6be73afa09e65d15\", element=\"0.2881362178252842-160\")>, <selenium.webdriver.remote.webelement.WebElement (session=\"b6aa13b1a8e0be6c6be73afa09e65d15\", element=\"0.2881362178252842-161\")>, <selenium.webdriver.remote.webelement.WebElement (session=\"b6aa13b1a8e0be6c6be73afa09e65d15\", element=\"0.2881362178252842-162\")>, <selenium.webdriver.remote.webelement.WebElement (session=\"b6aa13b1a8e0be6c6be73afa09e65d15\", element=\"0.2881362178252842-163\")>, <selenium.webdriver.remote.webelement.WebElement (session=\"b6aa13b1a8e0be6c6be73afa09e65d15\", element=\"0.2881362178252842-164\")>, <selenium.webdriver.remote.webelement.WebElement (session=\"b6aa13b1a8e0be6c6be73afa09e65d15\", element=\"0.2881362178252842-165\")>, <selenium.webdriver.remote.webelement.WebElement (session=\"b6aa13b1a8e0be6c6be73afa09e65d15\", element=\"0.2881362178252842-166\")>, <selenium.webdriver.remote.webelement.WebElement (session=\"b6aa13b1a8e0be6c6be73afa09e65d15\", element=\"0.2881362178252842-167\")>, <selenium.webdriver.remote.webelement.WebElement (session=\"b6aa13b1a8e0be6c6be73afa09e65d15\", element=\"0.2881362178252842-168\")>, <selenium.webdriver.remote.webelement.WebElement (session=\"b6aa13b1a8e0be6c6be73afa09e65d15\", element=\"0.2881362178252842-169\")>, <selenium.webdriver.remote.webelement.WebElement (session=\"b6aa13b1a8e0be6c6be73afa09e65d15\", element=\"0.2881362178252842-170\")>, <selenium.webdriver.remote.webelement.WebElement (session=\"b6aa13b1a8e0be6c6be73afa09e65d15\", element=\"0.2881362178252842-171\")>, <selenium.webdriver.remote.webelement.WebElement (session=\"b6aa13b1a8e0be6c6be73afa09e65d15\", element=\"0.2881362178252842-172\")>, <selenium.webdriver.remote.webelement.WebElement (session=\"b6aa13b1a8e0be6c6be73afa09e65d15\", element=\"0.2881362178252842-173\")>, <selenium.webdriver.remote.webelement.WebElement (session=\"b6aa13b1a8e0be6c6be73afa09e65d15\", element=\"0.2881362178252842-174\")>, <selenium.webdriver.remote.webelement.WebElement (session=\"b6aa13b1a8e0be6c6be73afa09e65d15\", element=\"0.2881362178252842-175\")>, <selenium.webdriver.remote.webelement.WebElement (session=\"b6aa13b1a8e0be6c6be73afa09e65d15\", element=\"0.2881362178252842-176\")>, <selenium.webdriver.remote.webelement.WebElement (session=\"b6aa13b1a8e0be6c6be73afa09e65d15\", element=\"0.2881362178252842-177\")>, <selenium.webdriver.remote.webelement.WebElement (session=\"b6aa13b1a8e0be6c6be73afa09e65d15\", element=\"0.2881362178252842-178\")>, <selenium.webdriver.remote.webelement.WebElement (session=\"b6aa13b1a8e0be6c6be73afa09e65d15\", element=\"0.2881362178252842-179\")>, <selenium.webdriver.remote.webelement.WebElement (session=\"b6aa13b1a8e0be6c6be73afa09e65d15\", element=\"0.2881362178252842-180\")>, <selenium.webdriver.remote.webelement.WebElement (session=\"b6aa13b1a8e0be6c6be73afa09e65d15\", element=\"0.2881362178252842-181\")>, <selenium.webdriver.remote.webelement.WebElement (session=\"b6aa13b1a8e0be6c6be73afa09e65d15\", element=\"0.2881362178252842-182\")>, <selenium.webdriver.remote.webelement.WebElement (session=\"b6aa13b1a8e0be6c6be73afa09e65d15\", element=\"0.2881362178252842-183\")>, <selenium.webdriver.remote.webelement.WebElement (session=\"b6aa13b1a8e0be6c6be73afa09e65d15\", element=\"0.2881362178252842-184\")>, <selenium.webdriver.remote.webelement.WebElement (session=\"b6aa13b1a8e0be6c6be73afa09e65d15\", element=\"0.2881362178252842-185\")>, <selenium.webdriver.remote.webelement.WebElement (session=\"b6aa13b1a8e0be6c6be73afa09e65d15\", element=\"0.2881362178252842-186\")>, <selenium.webdriver.remote.webelement.WebElement (session=\"b6aa13b1a8e0be6c6be73afa09e65d15\", element=\"0.2881362178252842-187\")>, <selenium.webdriver.remote.webelement.WebElement (session=\"b6aa13b1a8e0be6c6be73afa09e65d15\", element=\"0.2881362178252842-188\")>, <selenium.webdriver.remote.webelement.WebElement (session=\"b6aa13b1a8e0be6c6be73afa09e65d15\", element=\"0.2881362178252842-189\")>, <selenium.webdriver.remote.webelement.WebElement (session=\"b6aa13b1a8e0be6c6be73afa09e65d15\", element=\"0.2881362178252842-190\")>, <selenium.webdriver.remote.webelement.WebElement (session=\"b6aa13b1a8e0be6c6be73afa09e65d15\", element=\"0.2881362178252842-191\")>, <selenium.webdriver.remote.webelement.WebElement (session=\"b6aa13b1a8e0be6c6be73afa09e65d15\", element=\"0.2881362178252842-192\")>, <selenium.webdriver.remote.webelement.WebElement (session=\"b6aa13b1a8e0be6c6be73afa09e65d15\", element=\"0.2881362178252842-193\")>, <selenium.webdriver.remote.webelement.WebElement (session=\"b6aa13b1a8e0be6c6be73afa09e65d15\", element=\"0.2881362178252842-194\")>, <selenium.webdriver.remote.webelement.WebElement (session=\"b6aa13b1a8e0be6c6be73afa09e65d15\", element=\"0.2881362178252842-195\")>, <selenium.webdriver.remote.webelement.WebElement (session=\"b6aa13b1a8e0be6c6be73afa09e65d15\", element=\"0.2881362178252842-196\")>, <selenium.webdriver.remote.webelement.WebElement (session=\"b6aa13b1a8e0be6c6be73afa09e65d15\", element=\"0.2881362178252842-197\")>, <selenium.webdriver.remote.webelement.WebElement (session=\"b6aa13b1a8e0be6c6be73afa09e65d15\", element=\"0.2881362178252842-198\")>, <selenium.webdriver.remote.webelement.WebElement (session=\"b6aa13b1a8e0be6c6be73afa09e65d15\", element=\"0.2881362178252842-199\")>, <selenium.webdriver.remote.webelement.WebElement (session=\"b6aa13b1a8e0be6c6be73afa09e65d15\", element=\"0.2881362178252842-200\")>, <selenium.webdriver.remote.webelement.WebElement (session=\"b6aa13b1a8e0be6c6be73afa09e65d15\", element=\"0.2881362178252842-201\")>, <selenium.webdriver.remote.webelement.WebElement (session=\"b6aa13b1a8e0be6c6be73afa09e65d15\", element=\"0.2881362178252842-202\")>, <selenium.webdriver.remote.webelement.WebElement (session=\"b6aa13b1a8e0be6c6be73afa09e65d15\", element=\"0.2881362178252842-203\")>, <selenium.webdriver.remote.webelement.WebElement (session=\"b6aa13b1a8e0be6c6be73afa09e65d15\", element=\"0.2881362178252842-204\")>, <selenium.webdriver.remote.webelement.WebElement (session=\"b6aa13b1a8e0be6c6be73afa09e65d15\", element=\"0.2881362178252842-205\")>, <selenium.webdriver.remote.webelement.WebElement (session=\"b6aa13b1a8e0be6c6be73afa09e65d15\", element=\"0.2881362178252842-206\")>, <selenium.webdriver.remote.webelement.WebElement (session=\"b6aa13b1a8e0be6c6be73afa09e65d15\", element=\"0.2881362178252842-207\")>, <selenium.webdriver.remote.webelement.WebElement (session=\"b6aa13b1a8e0be6c6be73afa09e65d15\", element=\"0.2881362178252842-208\")>, <selenium.webdriver.remote.webelement.WebElement (session=\"b6aa13b1a8e0be6c6be73afa09e65d15\", element=\"0.2881362178252842-209\")>, <selenium.webdriver.remote.webelement.WebElement (session=\"b6aa13b1a8e0be6c6be73afa09e65d15\", element=\"0.2881362178252842-210\")>, <selenium.webdriver.remote.webelement.WebElement (session=\"b6aa13b1a8e0be6c6be73afa09e65d15\", element=\"0.2881362178252842-211\")>, <selenium.webdriver.remote.webelement.WebElement (session=\"b6aa13b1a8e0be6c6be73afa09e65d15\", element=\"0.2881362178252842-212\")>, <selenium.webdriver.remote.webelement.WebElement (session=\"b6aa13b1a8e0be6c6be73afa09e65d15\", element=\"0.2881362178252842-213\")>, <selenium.webdriver.remote.webelement.WebElement (session=\"b6aa13b1a8e0be6c6be73afa09e65d15\", element=\"0.2881362178252842-214\")>, <selenium.webdriver.remote.webelement.WebElement (session=\"b6aa13b1a8e0be6c6be73afa09e65d15\", element=\"0.2881362178252842-215\")>, <selenium.webdriver.remote.webelement.WebElement (session=\"b6aa13b1a8e0be6c6be73afa09e65d15\", element=\"0.2881362178252842-216\")>, <selenium.webdriver.remote.webelement.WebElement (session=\"b6aa13b1a8e0be6c6be73afa09e65d15\", element=\"0.2881362178252842-217\")>, <selenium.webdriver.remote.webelement.WebElement (session=\"b6aa13b1a8e0be6c6be73afa09e65d15\", element=\"0.2881362178252842-218\")>, <selenium.webdriver.remote.webelement.WebElement (session=\"b6aa13b1a8e0be6c6be73afa09e65d15\", element=\"0.2881362178252842-219\")>, <selenium.webdriver.remote.webelement.WebElement (session=\"b6aa13b1a8e0be6c6be73afa09e65d15\", element=\"0.2881362178252842-220\")>, <selenium.webdriver.remote.webelement.WebElement (session=\"b6aa13b1a8e0be6c6be73afa09e65d15\", element=\"0.2881362178252842-221\")>, <selenium.webdriver.remote.webelement.WebElement (session=\"b6aa13b1a8e0be6c6be73afa09e65d15\", element=\"0.2881362178252842-222\")>, <selenium.webdriver.remote.webelement.WebElement (session=\"b6aa13b1a8e0be6c6be73afa09e65d15\", element=\"0.2881362178252842-223\")>, <selenium.webdriver.remote.webelement.WebElement (session=\"b6aa13b1a8e0be6c6be73afa09e65d15\", element=\"0.2881362178252842-224\")>, <selenium.webdriver.remote.webelement.WebElement (session=\"b6aa13b1a8e0be6c6be73afa09e65d15\", element=\"0.2881362178252842-225\")>, <selenium.webdriver.remote.webelement.WebElement (session=\"b6aa13b1a8e0be6c6be73afa09e65d15\", element=\"0.2881362178252842-226\")>, <selenium.webdriver.remote.webelement.WebElement (session=\"b6aa13b1a8e0be6c6be73afa09e65d15\", element=\"0.2881362178252842-227\")>, <selenium.webdriver.remote.webelement.WebElement (session=\"b6aa13b1a8e0be6c6be73afa09e65d15\", element=\"0.2881362178252842-228\")>, <selenium.webdriver.remote.webelement.WebElement (session=\"b6aa13b1a8e0be6c6be73afa09e65d15\", element=\"0.2881362178252842-229\")>, <selenium.webdriver.remote.webelement.WebElement (session=\"b6aa13b1a8e0be6c6be73afa09e65d15\", element=\"0.2881362178252842-230\")>, <selenium.webdriver.remote.webelement.WebElement (session=\"b6aa13b1a8e0be6c6be73afa09e65d15\", element=\"0.2881362178252842-231\")>, <selenium.webdriver.remote.webelement.WebElement (session=\"b6aa13b1a8e0be6c6be73afa09e65d15\", element=\"0.2881362178252842-232\")>, <selenium.webdriver.remote.webelement.WebElement (session=\"b6aa13b1a8e0be6c6be73afa09e65d15\", element=\"0.2881362178252842-233\")>, <selenium.webdriver.remote.webelement.WebElement (session=\"b6aa13b1a8e0be6c6be73afa09e65d15\", element=\"0.2881362178252842-234\")>, <selenium.webdriver.remote.webelement.WebElement (session=\"b6aa13b1a8e0be6c6be73afa09e65d15\", element=\"0.2881362178252842-235\")>, <selenium.webdriver.remote.webelement.WebElement (session=\"b6aa13b1a8e0be6c6be73afa09e65d15\", element=\"0.2881362178252842-236\")>, <selenium.webdriver.remote.webelement.WebElement (session=\"b6aa13b1a8e0be6c6be73afa09e65d15\", element=\"0.2881362178252842-237\")>, <selenium.webdriver.remote.webelement.WebElement (session=\"b6aa13b1a8e0be6c6be73afa09e65d15\", element=\"0.2881362178252842-238\")>, <selenium.webdriver.remote.webelement.WebElement (session=\"b6aa13b1a8e0be6c6be73afa09e65d15\", element=\"0.2881362178252842-239\")>, <selenium.webdriver.remote.webelement.WebElement (session=\"b6aa13b1a8e0be6c6be73afa09e65d15\", element=\"0.2881362178252842-240\")>, <selenium.webdriver.remote.webelement.WebElement (session=\"b6aa13b1a8e0be6c6be73afa09e65d15\", element=\"0.2881362178252842-241\")>, <selenium.webdriver.remote.webelement.WebElement (session=\"b6aa13b1a8e0be6c6be73afa09e65d15\", element=\"0.2881362178252842-242\")>, <selenium.webdriver.remote.webelement.WebElement (session=\"b6aa13b1a8e0be6c6be73afa09e65d15\", element=\"0.2881362178252842-243\")>, <selenium.webdriver.remote.webelement.WebElement (session=\"b6aa13b1a8e0be6c6be73afa09e65d15\", element=\"0.2881362178252842-244\")>, <selenium.webdriver.remote.webelement.WebElement (session=\"b6aa13b1a8e0be6c6be73afa09e65d15\", element=\"0.2881362178252842-245\")>, <selenium.webdriver.remote.webelement.WebElement (session=\"b6aa13b1a8e0be6c6be73afa09e65d15\", element=\"0.2881362178252842-246\")>, <selenium.webdriver.remote.webelement.WebElement (session=\"b6aa13b1a8e0be6c6be73afa09e65d15\", element=\"0.2881362178252842-247\")>, <selenium.webdriver.remote.webelement.WebElement (session=\"b6aa13b1a8e0be6c6be73afa09e65d15\", element=\"0.2881362178252842-248\")>, <selenium.webdriver.remote.webelement.WebElement (session=\"b6aa13b1a8e0be6c6be73afa09e65d15\", element=\"0.2881362178252842-249\")>, <selenium.webdriver.remote.webelement.WebElement (session=\"b6aa13b1a8e0be6c6be73afa09e65d15\", element=\"0.2881362178252842-250\")>, <selenium.webdriver.remote.webelement.WebElement (session=\"b6aa13b1a8e0be6c6be73afa09e65d15\", element=\"0.2881362178252842-251\")>, <selenium.webdriver.remote.webelement.WebElement (session=\"b6aa13b1a8e0be6c6be73afa09e65d15\", element=\"0.2881362178252842-252\")>, <selenium.webdriver.remote.webelement.WebElement (session=\"b6aa13b1a8e0be6c6be73afa09e65d15\", element=\"0.2881362178252842-253\")>, <selenium.webdriver.remote.webelement.WebElement (session=\"b6aa13b1a8e0be6c6be73afa09e65d15\", element=\"0.2881362178252842-254\")>, <selenium.webdriver.remote.webelement.WebElement (session=\"b6aa13b1a8e0be6c6be73afa09e65d15\", element=\"0.2881362178252842-255\")>, <selenium.webdriver.remote.webelement.WebElement (session=\"b6aa13b1a8e0be6c6be73afa09e65d15\", element=\"0.2881362178252842-256\")>, <selenium.webdriver.remote.webelement.WebElement (session=\"b6aa13b1a8e0be6c6be73afa09e65d15\", element=\"0.2881362178252842-257\")>, <selenium.webdriver.remote.webelement.WebElement (session=\"b6aa13b1a8e0be6c6be73afa09e65d15\", element=\"0.2881362178252842-258\")>]\n"
     ]
    }
   ],
   "source": [
    "print(bar)"
   ]
  },
  {
   "cell_type": "code",
   "execution_count": 132,
   "metadata": {},
   "outputs": [
    {
     "name": "stdout",
     "output_type": "stream",
     "text": [
      "0%\n",
      "0%\n",
      "0%\n",
      "0%\n",
      "30%\n",
      "50%\n",
      "70%\n",
      "86%\n",
      "94%\n",
      "81%\n",
      "95%\n",
      "92%\n",
      "84%\n",
      "69%\n",
      "47%\n",
      "25%\n",
      "0%\n",
      "0%\n",
      "0%\n",
      "0%\n",
      "0%\n",
      "0%\n",
      "0%\n",
      "16%\n",
      "26%\n",
      "38%\n",
      "51%\n",
      "60%\n",
      "62%\n",
      "57%\n",
      "47%\n",
      "53%\n",
      "68%\n",
      "39%\n",
      "0%\n",
      "0%\n",
      "0%\n",
      "0%\n",
      "0%\n",
      "0%\n",
      "0%\n",
      "22%\n",
      "33%\n",
      "43%\n",
      "50%\n",
      "54%\n",
      "56%\n",
      "59%\n",
      "62%\n",
      "60%\n",
      "47%\n",
      "29%\n",
      "0%\n",
      "0%\n",
      "0%\n",
      "0%\n",
      "0%\n",
      "0%\n",
      "0%\n",
      "19%\n",
      "36%\n",
      "50%\n",
      "54%\n",
      "54%\n",
      "54%\n",
      "56%\n",
      "57%\n",
      "57%\n",
      "48%\n",
      "28%\n",
      "0%\n",
      "0%\n",
      "0%\n",
      "0%\n",
      "0%\n",
      "0%\n",
      "0%\n",
      "22%\n",
      "36%\n",
      "47%\n",
      "51%\n",
      "49%\n",
      "47%\n",
      "48%\n",
      "50%\n",
      "55%\n",
      "54%\n",
      "38%\n",
      "0%\n",
      "0%\n",
      "0%\n",
      "0%\n",
      "0%\n",
      "0%\n",
      "0%\n",
      "22%\n",
      "35%\n",
      "46%\n",
      "53%\n",
      "55%\n",
      "56%\n",
      "61%\n",
      "65%\n",
      "63%\n",
      "50%\n",
      "31%\n",
      "0%\n",
      "0%\n",
      "0%\n",
      "0%\n",
      "0%\n",
      "0%\n",
      "0%\n",
      "28%\n",
      "48%\n",
      "67%\n",
      "82%\n",
      "91%\n",
      "98%\n",
      "100%\n",
      "91%\n",
      "75%\n",
      "58%\n",
      "38%\n",
      "0%\n",
      "0%\n",
      "0%\n"
     ]
    }
   ],
   "source": [
    "for b in bar :\n",
    "    print(b.get_attribute('aria-label'))"
   ]
  },
  {
   "cell_type": "code",
   "execution_count": 133,
   "metadata": {
    "collapsed": true
   },
   "outputs": [],
   "source": [
    "driver.close()"
   ]
  },
  {
   "cell_type": "code",
   "execution_count": null,
   "metadata": {
    "collapsed": true
   },
   "outputs": [],
   "source": []
  }
 ],
 "metadata": {
  "kernelspec": {
   "display_name": "Python 3",
   "language": "python",
   "name": "python3"
  },
  "language_info": {
   "codemirror_mode": {
    "name": "ipython",
    "version": 3
   },
   "file_extension": ".py",
   "mimetype": "text/x-python",
   "name": "python",
   "nbconvert_exporter": "python",
   "pygments_lexer": "ipython3",
   "version": "3.6.1"
  }
 },
 "nbformat": 4,
 "nbformat_minor": 2
}
