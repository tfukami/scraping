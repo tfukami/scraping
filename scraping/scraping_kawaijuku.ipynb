{
 "cells": [
  {
   "cell_type": "markdown",
   "metadata": {},
   "source": [
    "### 河合塾"
   ]
  },
  {
   "cell_type": "code",
   "execution_count": 1,
   "metadata": {
    "collapsed": true
   },
   "outputs": [],
   "source": [
    "from bs4 import BeautifulSoup\n",
    "from urllib.request import urlopen\n",
    "from selenium import webdriver\n",
    "from selenium.webdriver.common.keys import Keys\n",
    "import time\n",
    "import re\n",
    "\n",
    "import pandas as pd"
   ]
  },
  {
   "cell_type": "code",
   "execution_count": 2,
   "metadata": {
    "scrolled": true
   },
   "outputs": [
    {
     "name": "stdout",
     "output_type": "stream",
     "text": [
      "['全統高2記述模試（記述・論述式） 試験会場実施日', '高2生']\n",
      "['全統マーク高2模試 試験会場実施日', '高2生']\n"
     ]
    }
   ],
   "source": [
    "DATA = []\n",
    "\n",
    "driver = webdriver.PhantomJS()\n",
    "driver.get('http://www.kawai-juku.ac.jp/trial-exam/zento/lnp/2nd/') #  ここを変える\n",
    "soup = BeautifulSoup(driver.page_source, 'html.parser')\n",
    "driver.quit\n",
    "\n",
    "for kaijo in soup.find('div', class_='tableBlockA01 mt00').findAll(lambda tag: tag.name=='a' and tag.find('img', alt='試験会場実施日')):\n",
    "    driver.get('http://www.kawai-juku.ac.jp' + kaijo.attrs['href'])\n",
    "    soup2 = BeautifulSoup(driver.page_source, 'html.parser')\n",
    "    print(soup2.title.get_text().split(' | ')[0:2])\n",
    "    info = soup2.title.get_text().split(' | ')[0:2]\n",
    "    driver.get(soup2.iframe.attrs['src'])\n",
    "    tags = driver.find_elements_by_xpath(\"//a[@href='javascript:;']\")\n",
    "    \n",
    "    for i in range(len(tags)):\n",
    "        driver.get('http://www.kawai-juku.ac.jp' + kaijo.attrs['href'])\n",
    "        driver.get(BeautifulSoup(driver.page_source, 'html.parser').iframe.attrs['src'])\n",
    "        driver.find_elements_by_xpath(\"//a[@href='javascript:;']\")[i].click()\n",
    "        time.sleep(0.5)\n",
    "        soup3 = BeautifulSoup(driver.page_source, 'html.parser')\n",
    "        driver.quit\n",
    "        # print(soup3.find('td', bgcolor=\"#ffffff\").get_text().replace('\\n', '').replace(' ','').replace('\\t', '').replace('　', ''))\n",
    "        d = soup3.find('td', bgcolor=\"#ffffff\").get_text().replace('\\n', '').replace(' ','').replace('\\t', '').replace('　', '')\n",
    "        \n",
    "        address = []\n",
    "        for f in soup3.tbody.tbody.td.findAll('table')[5].td.findAll('font', {'color':None}):\n",
    "            # print(f.get_text().replace('　','').replace('\\xa0','').split('\\n'))\n",
    "            address.append(f.get_text().replace('　','').replace('\\xa0','').replace('\\n', ''))\n",
    "        # print(address)\n",
    "        \n",
    "        DATA.append([info[0].split('(')[0], info[1], d, address[0], address[1]])"
   ]
  },
  {
   "cell_type": "code",
   "execution_count": 3,
   "metadata": {},
   "outputs": [
    {
     "data": {
      "text/html": [
       "<div>\n",
       "<table border=\"1\" class=\"dataframe\">\n",
       "  <thead>\n",
       "    <tr style=\"text-align: right;\">\n",
       "      <th></th>\n",
       "      <th>moshi</th>\n",
       "      <th>grade</th>\n",
       "      <th>date</th>\n",
       "      <th>place</th>\n",
       "      <th>address</th>\n",
       "    </tr>\n",
       "  </thead>\n",
       "  <tbody>\n",
       "    <tr>\n",
       "      <th>0</th>\n",
       "      <td>全統高2記述模試（記述・論述式） 試験会場実施日</td>\n",
       "      <td>高2生</td>\n",
       "      <td>2018/02/04</td>\n",
       "      <td>河合塾札幌校</td>\n",
       "      <td>札幌市北区北９条西３丁目３番地</td>\n",
       "    </tr>\n",
       "    <tr>\n",
       "      <th>1</th>\n",
       "      <td>全統高2記述模試（記述・論述式） 試験会場実施日</td>\n",
       "      <td>高2生</td>\n",
       "      <td>2018/01/28</td>\n",
       "      <td>東北大川内北キャンパス講義棟</td>\n",
       "      <td>仙台市青葉区川内４１</td>\n",
       "    </tr>\n",
       "    <tr>\n",
       "      <th>2</th>\n",
       "      <td>全統高2記述模試（記述・論述式） 試験会場実施日</td>\n",
       "      <td>高2生</td>\n",
       "      <td>2018/02/04</td>\n",
       "      <td>茨城大学水戸ＣＰ</td>\n",
       "      <td>水戸市文京２丁目１番１号</td>\n",
       "    </tr>\n",
       "    <tr>\n",
       "      <th>3</th>\n",
       "      <td>全統高2記述模試（記述・論述式） 試験会場実施日</td>\n",
       "      <td>高2生</td>\n",
       "      <td>2018/02/04</td>\n",
       "      <td>宇都宮大学峰キャンパス</td>\n",
       "      <td>宇都宮市峰町３５０</td>\n",
       "    </tr>\n",
       "    <tr>\n",
       "      <th>4</th>\n",
       "      <td>全統高2記述模試（記述・論述式） 試験会場実施日</td>\n",
       "      <td>高2生</td>\n",
       "      <td>2018/02/04</td>\n",
       "      <td>育英メディカル専門学校</td>\n",
       "      <td>前橋市古市町１－３５－６</td>\n",
       "    </tr>\n",
       "  </tbody>\n",
       "</table>\n",
       "</div>"
      ],
      "text/plain": [
       "                      moshi grade        date           place          address\n",
       "0  全統高2記述模試（記述・論述式） 試験会場実施日   高2生  2018/02/04          河合塾札幌校  札幌市北区北９条西３丁目３番地\n",
       "1  全統高2記述模試（記述・論述式） 試験会場実施日   高2生  2018/01/28  東北大川内北キャンパス講義棟       仙台市青葉区川内４１\n",
       "2  全統高2記述模試（記述・論述式） 試験会場実施日   高2生  2018/02/04        茨城大学水戸ＣＰ     水戸市文京２丁目１番１号\n",
       "3  全統高2記述模試（記述・論述式） 試験会場実施日   高2生  2018/02/04     宇都宮大学峰キャンパス        宇都宮市峰町３５０\n",
       "4  全統高2記述模試（記述・論述式） 試験会場実施日   高2生  2018/02/04     育英メディカル専門学校     前橋市古市町１－３５－６"
      ]
     },
     "execution_count": 3,
     "metadata": {},
     "output_type": "execute_result"
    }
   ],
   "source": [
    "dat = pd.DataFrame(DATA, columns=['moshi', 'grade', 'date', 'place', 'address'])\n",
    "dat.head()"
   ]
  },
  {
   "cell_type": "code",
   "execution_count": 4,
   "metadata": {
    "collapsed": true
   },
   "outputs": [],
   "source": [
    "dat.to_csv('res/kawai.csv')"
   ]
  },
  {
   "cell_type": "code",
   "execution_count": null,
   "metadata": {
    "collapsed": true
   },
   "outputs": [],
   "source": []
  }
 ],
 "metadata": {
  "kernelspec": {
   "display_name": "Python 3",
   "language": "python",
   "name": "python3"
  },
  "language_info": {
   "codemirror_mode": {
    "name": "ipython",
    "version": 3
   },
   "file_extension": ".py",
   "mimetype": "text/x-python",
   "name": "python",
   "nbconvert_exporter": "python",
   "pygments_lexer": "ipython3",
   "version": "3.6.1"
  }
 },
 "nbformat": 4,
 "nbformat_minor": 2
}
