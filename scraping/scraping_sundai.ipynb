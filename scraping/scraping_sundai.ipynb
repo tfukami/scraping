{
 "cells": [
  {
   "cell_type": "code",
   "execution_count": 1,
   "metadata": {
    "collapsed": true
   },
   "outputs": [],
   "source": [
    "from bs4 import BeautifulSoup\n",
    "from urllib.request import urlopen\n",
    "import re\n",
    "import time\n",
    "from selenium import webdriver\n",
    "from selenium.webdriver.common.keys import Keys\n",
    "\n",
    "import pandas as pd"
   ]
  },
  {
   "cell_type": "markdown",
   "metadata": {},
   "source": [
    "### 駿台"
   ]
  },
  {
   "cell_type": "code",
   "execution_count": 2,
   "metadata": {
    "collapsed": true
   },
   "outputs": [],
   "source": [
    "MOSHI3 = {\"第３回駿台全国模試\":\"http://www2.sundai.ac.jp/yobi/sv/sundai/moshi_P/place_PD/1337374601732.html\", \n",
    "         \"大学入試センター試験プレテスト\":\"http://www2.sundai.ac.jp/yobi/sv/sundai/moshi_P/place_PD/1337364967005.html\"}\n",
    "DATE3 = {\"第３回駿台全国模試\":\"2017-12-03\", \n",
    "         \"大学入試センター試験プレテスト\":\"2017-12-17\"}"
   ]
  },
  {
   "cell_type": "code",
   "execution_count": 4,
   "metadata": {},
   "outputs": [
    {
     "name": "stdout",
     "output_type": "stream",
     "text": [
      "第３回駿台全国模試 ...\n",
      "大学入試センター試験プレテスト ...\n"
     ]
    }
   ],
   "source": [
    "GRADE3 = []\n",
    "for m in MOSHI3:\n",
    "    print(m, '...')\n",
    "    f = urlopen(MOSHI3[m])\n",
    "    soup = BeautifulSoup(f, 'html.parser')\n",
    "    for p in soup.find(\"table\", class_=\"standard-table\").findAll(\"tr\")[1:]:\n",
    "        place = p.a.get_text()\n",
    "        # print(p.a.get_text(), p.a.attrs['href'])\n",
    "        driver = webdriver.PhantomJS()\n",
    "        driver.get('http://www2.sundai.ac.jp' + p.a.attrs['href'])\n",
    "        time.sleep(0.5)\n",
    "        soup = BeautifulSoup(driver.page_source, 'html.parser')\n",
    "        driver.quit()\n",
    "        try:\n",
    "            geo = soup.iframe.attrs['src'].split('!2d')[1].split('!3m')[0].split('!3d')\n",
    "        except:\n",
    "            geo = [None, None]\n",
    "        \n",
    "        GRADE3.append([m, 3, DATE3[m], place, geo[1], geo[0]])"
   ]
  },
  {
   "cell_type": "code",
   "execution_count": 5,
   "metadata": {
    "collapsed": true
   },
   "outputs": [],
   "source": [
    "MOSHI2 = {\"第1回高2駿台全国マーク模試\":\"http://www2.sundai.ac.jp/yobi/sv/sundai/moshi_P/place_PD/1337364967166.html\"}\n",
    "DATE2 = {\"第1回高2駿台全国マーク模試\":\"2017-12-23\"}\n",
    "GRADE2 = []\n",
    "for m in MOSHI2:\n",
    "    f = urlopen(MOSHI2[m])\n",
    "    soup = BeautifulSoup(f, 'html.parser')\n",
    "    for p in soup.find(\"table\", class_=\"standard-table\").findAll(\"tr\")[1:]:\n",
    "        place = p.a.get_text()\n",
    "        # print(p.a.get_text(), p.a.attrs['href'])\n",
    "        driver = webdriver.PhantomJS()\n",
    "        driver.get('http://www2.sundai.ac.jp' + p.a.attrs['href'])\n",
    "        time.sleep(0.5)\n",
    "        soup = BeautifulSoup(driver.page_source, 'html.parser')\n",
    "        driver.quit()\n",
    "        try:\n",
    "            geo = soup.iframe.attrs['src'].split('!2d')[1].split('!3m')[0].split('!3d')\n",
    "        except:\n",
    "            geo = [None, None]\n",
    "        \n",
    "        GRADE2.append([m, 2, DATE2[m], place, geo[1], geo[0]])"
   ]
  },
  {
   "cell_type": "code",
   "execution_count": 7,
   "metadata": {},
   "outputs": [
    {
     "data": {
      "text/html": [
       "<div>\n",
       "<table border=\"1\" class=\"dataframe\">\n",
       "  <thead>\n",
       "    <tr style=\"text-align: right;\">\n",
       "      <th></th>\n",
       "      <th>moshi</th>\n",
       "      <th>grade</th>\n",
       "      <th>date</th>\n",
       "      <th>place</th>\n",
       "      <th>latitude</th>\n",
       "      <th>longitude</th>\n",
       "    </tr>\n",
       "  </thead>\n",
       "  <tbody>\n",
       "    <tr>\n",
       "      <th>0</th>\n",
       "      <td>第３回駿台全国模試</td>\n",
       "      <td>3</td>\n",
       "      <td>2017-12-03</td>\n",
       "      <td>駿台予備学校　札幌校</td>\n",
       "      <td>43.067795</td>\n",
       "      <td>141.346643</td>\n",
       "    </tr>\n",
       "    <tr>\n",
       "      <th>1</th>\n",
       "      <td>第３回駿台全国模試</td>\n",
       "      <td>3</td>\n",
       "      <td>2017-12-03</td>\n",
       "      <td>駿台予備学校仙台校</td>\n",
       "      <td>38.2582664</td>\n",
       "      <td>140.8840019</td>\n",
       "    </tr>\n",
       "    <tr>\n",
       "      <th>2</th>\n",
       "      <td>第３回駿台全国模試</td>\n",
       "      <td>3</td>\n",
       "      <td>2017-12-03</td>\n",
       "      <td>茨城県職業人材育成センター</td>\n",
       "      <td>None</td>\n",
       "      <td>None</td>\n",
       "    </tr>\n",
       "    <tr>\n",
       "      <th>3</th>\n",
       "      <td>第３回駿台全国模試</td>\n",
       "      <td>3</td>\n",
       "      <td>2017-12-03</td>\n",
       "      <td>宇都宮ビジネス電子専門学校</td>\n",
       "      <td>None</td>\n",
       "      <td>None</td>\n",
       "    </tr>\n",
       "    <tr>\n",
       "      <th>4</th>\n",
       "      <td>第３回駿台全国模試</td>\n",
       "      <td>3</td>\n",
       "      <td>2017-12-03</td>\n",
       "      <td>小野池學院</td>\n",
       "      <td>None</td>\n",
       "      <td>None</td>\n",
       "    </tr>\n",
       "  </tbody>\n",
       "</table>\n",
       "</div>"
      ],
      "text/plain": [
       "       moshi  grade        date          place    latitude    longitude\n",
       "0  第３回駿台全国模試      3  2017-12-03     駿台予備学校　札幌校   43.067795   141.346643\n",
       "1  第３回駿台全国模試      3  2017-12-03      駿台予備学校仙台校  38.2582664  140.8840019\n",
       "2  第３回駿台全国模試      3  2017-12-03  茨城県職業人材育成センター        None         None\n",
       "3  第３回駿台全国模試      3  2017-12-03  宇都宮ビジネス電子専門学校        None         None\n",
       "4  第３回駿台全国模試      3  2017-12-03          小野池學院        None         None"
      ]
     },
     "execution_count": 7,
     "metadata": {},
     "output_type": "execute_result"
    }
   ],
   "source": [
    "dat = pd.concat([pd.DataFrame(GRADE3, columns=['moshi', 'grade', 'date', 'place', 'latitude', 'longitude']), \n",
    "                 pd.DataFrame(GRADE2, columns=['moshi', 'grade', 'date', 'place', 'latitude', 'longitude'])])\n",
    "dat.head()"
   ]
  },
  {
   "cell_type": "code",
   "execution_count": 8,
   "metadata": {
    "collapsed": true
   },
   "outputs": [],
   "source": [
    "dat.to_csv('res/sundai.csv')"
   ]
  },
  {
   "cell_type": "code",
   "execution_count": null,
   "metadata": {
    "collapsed": true
   },
   "outputs": [],
   "source": []
  }
 ],
 "metadata": {
  "kernelspec": {
   "display_name": "Python 3",
   "language": "python",
   "name": "python3"
  },
  "language_info": {
   "codemirror_mode": {
    "name": "ipython",
    "version": 3
   },
   "file_extension": ".py",
   "mimetype": "text/x-python",
   "name": "python",
   "nbconvert_exporter": "python",
   "pygments_lexer": "ipython3",
   "version": "3.6.1"
  }
 },
 "nbformat": 4,
 "nbformat_minor": 2
}
